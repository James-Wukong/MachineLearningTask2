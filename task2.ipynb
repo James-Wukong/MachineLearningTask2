{
 "cells": [
  {
   "cell_type": "markdown",
   "id": "6acb77c8-b2df-4185-adfc-b3daa6f9f22e",
   "metadata": {
    "tags": []
   },
   "source": [
    "### import all necessary libraries"
   ]
  },
  {
   "cell_type": "code",
   "execution_count": 1,
   "id": "3c6b73dd-019d-4ab3-8bf2-043535ca7c0f",
   "metadata": {
    "tags": []
   },
   "outputs": [],
   "source": [
    "# Python script to scrape an article given the url of the article and store the extracted text in a file\n",
    "# Url: https://medium.com/@subashgandyer/papa-what-is-a-neural-network-c5e5cc427c7\n",
    "\n",
    "import os, sys\n",
    "import requests\n",
    "import re\n",
    "# Code here - Import BeautifulSoup library\n",
    "from bs4 import BeautifulSoup\n",
    "# Code ends here"
   ]
  },
  {
   "cell_type": "markdown",
   "id": "4c56845f-a8a6-4812-b524-716c2a048e78",
   "metadata": {},
   "source": [
    "### write a function that use requests to get page content"
   ]
  },
  {
   "cell_type": "code",
   "execution_count": 3,
   "id": "e18c51c0-a820-42a7-853c-af885dacc879",
   "metadata": {
    "tags": []
   },
   "outputs": [],
   "source": [
    "# function to get the html source text of the medium article\n",
    "def get_page():\n",
    "    global url\n",
    "\n",
    "    # Code here - Ask the user to input \"Enter url of a medium article: \" and collect it in url\n",
    "    url = input('Enter url of a medium article: ')\n",
    "    # Code ends here\n",
    "\n",
    "    # handling possible error\n",
    "    if not re.match(r'https://medium.com/', url):\n",
    "        print('Please enter a valid website, or make sure it is a medium article')\n",
    "        sys.exit(1)\n",
    "\n",
    "    # Code here - Call get method in requests object, pass url and collect it in res\n",
    "    res = requests.get(url)\n",
    "    # Code ends here\n",
    "\n",
    "    res.raise_for_status()\n",
    "    soup = BeautifulSoup(res.text, 'html.parser')\n",
    "    return soup"
   ]
  },
  {
   "cell_type": "markdown",
   "id": "d3b221f1-1eda-4067-9c17-4da4db0a2f26",
   "metadata": {},
   "source": [
    "### use regular expr and beautifulsoup libraries to prettify the response content"
   ]
  },
  {
   "cell_type": "code",
   "execution_count": 5,
   "id": "d3d0109f-8b47-411a-b960-c3431f952901",
   "metadata": {
    "tags": []
   },
   "outputs": [],
   "source": [
    "# function to remove all the html tags and replace some with specific strings\n",
    "def clean(text):\n",
    "    rep = {\"<br>\": \"\\n\", \"<br/>\": \"\\n\", \"<li>\":  \"\\n\"}\n",
    "    rep = dict((re.escape(k), v) for k, v in rep.items()) \n",
    "    pattern = re.compile(\"|\".join(rep.keys()))\n",
    "    text = pattern.sub(lambda m: rep[re.escape(m.group(0))], text)\n",
    "    text = re.sub('\\<(.*?)\\>', '', text)\n",
    "    return text\n",
    "\n",
    "\n",
    "def collect_text(soup):\n",
    "    text = f'url: {url}\\n\\n'\n",
    "    para_text = soup.find_all('p')\n",
    "    print(f\"paragraphs text = \\n {para_text}\")\n",
    "    for para in para_text:\n",
    "        text += f\"{para.text}\\n\\n\"\n",
    "    return text"
   ]
  },
  {
   "cell_type": "markdown",
   "id": "b2426361-e6e7-43d1-8727-df63b0f431ee",
   "metadata": {},
   "source": [
    "### save the content to local file"
   ]
  },
  {
   "cell_type": "code",
   "execution_count": 7,
   "id": "77e51bfc-8372-46fe-955c-d2c7b194d099",
   "metadata": {
    "tags": []
   },
   "outputs": [],
   "source": [
    "# function to save file in the current directory\n",
    "def save_file(text):\n",
    "    if not os.path.exists('./scraped_articles'):\n",
    "        os.mkdir('./scraped_articles')\n",
    "    name = url.split(\"/\")[-1]\n",
    "    print(name)\n",
    "    fname = f'scraped_articles/{name}.txt'\n",
    "\n",
    "    # Code here - write a file using with (2 lines)\n",
    "    with open(fname, 'w') as f:\n",
    "        f.write(text)\n",
    "    # Code ends here\n",
    "\n",
    "    print(f'File saved in directory {fname}')"
   ]
  },
  {
   "cell_type": "markdown",
   "id": "4c055094-c002-4f2d-885c-2c2a8f75c352",
   "metadata": {},
   "source": [
    "### main to run all codes together"
   ]
  },
  {
   "cell_type": "code",
   "execution_count": null,
   "id": "aac569c5-16af-4737-8d76-2b57cc2fe479",
   "metadata": {
    "tags": []
   },
   "outputs": [],
   "source": [
    "if __name__ == '__main__':\n",
    "    os.getcwd()\n",
    "    text = collect_text(get_page())\n",
    "    save_file(text)\n",
    "    # Instructions to Run this python code\n",
    "    # Give url as https://medium.com/@subashgandyer/papa-what-is-a-neural-network-c5e5cc427c7"
   ]
  }
 ],
 "metadata": {
  "kernelspec": {
   "display_name": "Python 3 (ipykernel)",
   "language": "python",
   "name": "python3"
  },
  "language_info": {
   "codemirror_mode": {
    "name": "ipython",
    "version": 3
   },
   "file_extension": ".py",
   "mimetype": "text/x-python",
   "name": "python",
   "nbconvert_exporter": "python",
   "pygments_lexer": "ipython3",
   "version": "3.11.4"
  }
 },
 "nbformat": 4,
 "nbformat_minor": 5
}
